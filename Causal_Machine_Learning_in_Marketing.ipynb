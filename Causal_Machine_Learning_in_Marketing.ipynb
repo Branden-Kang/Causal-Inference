{
  "nbformat": 4,
  "nbformat_minor": 0,
  "metadata": {
    "colab": {
      "provenance": [],
      "authorship_tag": "ABX9TyMXFasfnOi495rDa+tYY3oG"
    },
    "kernelspec": {
      "name": "python3",
      "display_name": "Python 3"
    },
    "language_info": {
      "name": "python"
    }
  },
  "cells": [
    {
      "cell_type": "markdown",
      "source": [
        "[Reference](https://medium.com/@heinrichkoegel/causal-machine-learning-in-marketing-12dcd91ec24e)"
      ],
      "metadata": {
        "id": "ShaRhZQm0iqV"
      }
    },
    {
      "cell_type": "code",
      "source": [
        "pip install doubleml"
      ],
      "metadata": {
        "colab": {
          "base_uri": "https://localhost:8080/"
        },
        "id": "Wo4uZQcI05IR",
        "outputId": "d9657758-85c7-40f1-b58b-eafe6b9ea3cf"
      },
      "execution_count": 2,
      "outputs": [
        {
          "output_type": "stream",
          "name": "stdout",
          "text": [
            "Collecting doubleml\n",
            "  Downloading DoubleML-0.6.3-py3-none-any.whl (227 kB)\n",
            "\u001b[?25l     \u001b[90m━━━━━━━━━━━━━━━━━━━━━━━━━━━━━━━━━━━━━━━━\u001b[0m \u001b[32m0.0/228.0 kB\u001b[0m \u001b[31m?\u001b[0m eta \u001b[36m-:--:--\u001b[0m\r\u001b[2K     \u001b[91m━━━━━━━━━━━━━━━━━━━━━━━━━━━━━━━━━━━━━━\u001b[0m\u001b[91m╸\u001b[0m \u001b[32m225.3/228.0 kB\u001b[0m \u001b[31m6.9 MB/s\u001b[0m eta \u001b[36m0:00:01\u001b[0m\r\u001b[2K     \u001b[90m━━━━━━━━━━━━━━━━━━━━━━━━━━━━━━━━━━━━━━━\u001b[0m \u001b[32m228.0/228.0 kB\u001b[0m \u001b[31m5.2 MB/s\u001b[0m eta \u001b[36m0:00:00\u001b[0m\n",
            "\u001b[?25hRequirement already satisfied: joblib in /usr/local/lib/python3.10/dist-packages (from doubleml) (1.3.1)\n",
            "Requirement already satisfied: numpy in /usr/local/lib/python3.10/dist-packages (from doubleml) (1.22.4)\n",
            "Requirement already satisfied: pandas in /usr/local/lib/python3.10/dist-packages (from doubleml) (1.5.3)\n",
            "Requirement already satisfied: scipy in /usr/local/lib/python3.10/dist-packages (from doubleml) (1.10.1)\n",
            "Requirement already satisfied: scikit-learn in /usr/local/lib/python3.10/dist-packages (from doubleml) (1.2.2)\n",
            "Requirement already satisfied: statsmodels in /usr/local/lib/python3.10/dist-packages (from doubleml) (0.13.5)\n",
            "Requirement already satisfied: plotly in /usr/local/lib/python3.10/dist-packages (from doubleml) (5.13.1)\n",
            "Requirement already satisfied: python-dateutil>=2.8.1 in /usr/local/lib/python3.10/dist-packages (from pandas->doubleml) (2.8.2)\n",
            "Requirement already satisfied: pytz>=2020.1 in /usr/local/lib/python3.10/dist-packages (from pandas->doubleml) (2022.7.1)\n",
            "Requirement already satisfied: tenacity>=6.2.0 in /usr/local/lib/python3.10/dist-packages (from plotly->doubleml) (8.2.2)\n",
            "Requirement already satisfied: threadpoolctl>=2.0.0 in /usr/local/lib/python3.10/dist-packages (from scikit-learn->doubleml) (3.2.0)\n",
            "Requirement already satisfied: patsy>=0.5.2 in /usr/local/lib/python3.10/dist-packages (from statsmodels->doubleml) (0.5.3)\n",
            "Requirement already satisfied: packaging>=21.3 in /usr/local/lib/python3.10/dist-packages (from statsmodels->doubleml) (23.1)\n",
            "Requirement already satisfied: six in /usr/local/lib/python3.10/dist-packages (from patsy>=0.5.2->statsmodels->doubleml) (1.16.0)\n",
            "Installing collected packages: doubleml\n",
            "Successfully installed doubleml-0.6.3\n"
          ]
        }
      ]
    },
    {
      "cell_type": "code",
      "execution_count": 5,
      "metadata": {
        "id": "RcAza1_n0Uzb"
      },
      "outputs": [],
      "source": [
        "import pandas as pd\n",
        "import numpy as np\n",
        "import doubleml as dml\n",
        "from sklearn.ensemble import RandomForestClassifier, RandomForestRegressor\n",
        "\n",
        "np.random.seed(123)\n",
        "\n",
        "# Specify the potential confounders\n",
        "potential_confounders = [\n",
        "  'size', 'past_sales', 'quarter',\n",
        "  'number_markets_active', 'headquarters_us'\n",
        "]\n",
        "\n",
        "# Instantiate the doubleML data object\n",
        "data_dml = dml.DoubleMLData(\n",
        "  data=df,\n",
        "  y_col='sales',\n",
        "  d_cols='discount',\n",
        "  x_cols=potential_confounders\n",
        ")"
      ]
    },
    {
      "cell_type": "code",
      "source": [
        "# Instantiate random forest learners\n",
        "rf_reg = RandomForestRegressor(n_estimators=500)\n",
        "rf_class = RandomForestClassifier(n_estimators=500)\n",
        "\n",
        "# Instantiate the doubleML partially linear regression model\n",
        "dml_plr = dml.DoubleMLPLR(\n",
        "  obj_dml_data=data_dml,\n",
        "  ml_l=rf_regressor,\n",
        "  ml_m=rf_classifier\n",
        ")\n",
        "\n",
        "# Run estimation\n",
        "dml_plr.fit()\n",
        "\n",
        "# Print estimation results\n",
        "dml_plr.summary"
      ],
      "metadata": {
        "id": "RiPubEpe06Gy"
      },
      "execution_count": 6,
      "outputs": []
    }
  ]
}