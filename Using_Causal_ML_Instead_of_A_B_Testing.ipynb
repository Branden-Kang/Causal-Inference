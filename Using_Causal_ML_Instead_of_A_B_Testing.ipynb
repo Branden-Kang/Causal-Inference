{
  "nbformat": 4,
  "nbformat_minor": 0,
  "metadata": {
    "colab": {
      "provenance": [],
      "authorship_tag": "ABX9TyN6wpmAykwyMJtM5jP2+1hu"
    },
    "kernelspec": {
      "name": "python3",
      "display_name": "Python 3"
    },
    "language_info": {
      "name": "python"
    }
  },
  "cells": [
    {
      "cell_type": "markdown",
      "source": [
        "[Reference](https://towardsdatascience.com/using-causal-ml-instead-of-a-b-testing-eeb1067d7fc0)"
      ],
      "metadata": {
        "id": "3X0mdMSR-bzD"
      }
    },
    {
      "cell_type": "code",
      "execution_count": 2,
      "metadata": {
        "id": "rI5_18LK-EtJ"
      },
      "outputs": [],
      "source": [
        "import pandas as pd\n",
        "from sklearn.model_selection import KFold\n",
        "from lightgbm import LGBMRegressor\n",
        "\n",
        "# initialize the number of folds and a dictionary to store the folds\n",
        "n_folds = 5\n",
        "folds = {fold: dict() for fold in range(n_folds)}\n",
        "\n",
        "# for each fold...\n",
        "for fold, (ix_train, ix_test) in enumerate(KFold(n_splits=n_folds).split(X=X)):\n",
        "\n",
        "  # ... store test index and trained model\n",
        "  folds[fold][\"ix_test\"] = ix_test\n",
        "  folds[fold][\"model\"] = LGBMRegressor().fit(\n",
        "    X=X.loc[ix_train, :], \n",
        "    y=y.loc[ix_train]\n",
        "  )"
      ]
    },
    {
      "cell_type": "code",
      "source": [
        "# make counterfactual datasets for campaign A\n",
        "X_zeros = X.replace({\"campaign_A\": {1: 0}}) # universe A: nobody gets the discount\n",
        "X_ones = X.replace({\"campaign_A\": {0: 1}}) # universe B: everybody gets the discount\n",
        "\n",
        "pred_zeros = pd.Series(index = X.index)\n",
        "pred_ones = pd.Series(index = X.index)\n",
        "\n",
        "# for each fold, use model to make predictions on test individuals and store them\n",
        "for fold in folds.keys():\n",
        "  \n",
        "  ix_test = folds[fold][\"ix_test\"]\n",
        "  model = folds[fold][\"model\"]\n",
        "  \n",
        "  pred_zeros.loc[ix_test] = model.predict(X_zeros.loc[ix_test, :])\n",
        "  pred_ones.loc[ix_test] = model.predict(X_ones.loc[ix_test, :])"
      ],
      "metadata": {
        "id": "PlQZfkqe-Gr5"
      },
      "execution_count": 4,
      "outputs": []
    },
    {
      "cell_type": "code",
      "source": [
        "ate = (pred_ones - pred_zeros).mean()\n",
        "ate"
      ],
      "metadata": {
        "id": "QaSHUmah-JHk"
      },
      "execution_count": 5,
      "outputs": []
    }
  ]
}