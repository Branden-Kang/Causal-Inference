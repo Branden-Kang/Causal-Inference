{
  "nbformat": 4,
  "nbformat_minor": 0,
  "metadata": {
    "colab": {
      "name": "Robust Experimentation Impact Analysis using Causal ML Python Package.ipynb",
      "provenance": [],
      "authorship_tag": "ABX9TyPbQWF7oFNU+k59LqR3G9OP"
    },
    "kernelspec": {
      "name": "python3",
      "display_name": "Python 3"
    },
    "language_info": {
      "name": "python"
    }
  },
  "cells": [
    {
      "cell_type": "code",
      "execution_count": 1,
      "metadata": {
        "colab": {
          "base_uri": "https://localhost:8080/"
        },
        "id": "fnKVI9CtV1Ih",
        "outputId": "d5eb6888-671f-40f2-99a3-917fe889f05a"
      },
      "outputs": [
        {
          "output_type": "stream",
          "name": "stdout",
          "text": [
            "Looking in indexes: https://pypi.org/simple, https://us-python.pkg.dev/colab-wheels/public/simple/\n",
            "Collecting causalml\n",
            "  Downloading causalml-0.12.3.tar.gz (406 kB)\n",
            "\u001b[K     |████████████████████████████████| 406 kB 5.4 MB/s \n",
            "\u001b[?25hRequirement already satisfied: setuptools>=41.0.0 in /usr/local/lib/python3.7/dist-packages (from causalml) (57.4.0)\n",
            "Requirement already satisfied: pip>=10.0 in /usr/local/lib/python3.7/dist-packages (from causalml) (21.1.3)\n",
            "Requirement already satisfied: numpy>=1.18.5 in /usr/local/lib/python3.7/dist-packages (from causalml) (1.21.6)\n",
            "Requirement already satisfied: scipy>=1.4.1 in /usr/local/lib/python3.7/dist-packages (from causalml) (1.4.1)\n",
            "Requirement already satisfied: matplotlib in /usr/local/lib/python3.7/dist-packages (from causalml) (3.2.2)\n",
            "Requirement already satisfied: pandas>=0.24.1 in /usr/local/lib/python3.7/dist-packages (from causalml) (1.3.5)\n",
            "Requirement already satisfied: scikit-learn>=0.22.0 in /usr/local/lib/python3.7/dist-packages (from causalml) (1.0.2)\n",
            "Requirement already satisfied: statsmodels>=0.9.0 in /usr/local/lib/python3.7/dist-packages (from causalml) (0.10.2)\n",
            "Requirement already satisfied: seaborn in /usr/local/lib/python3.7/dist-packages (from causalml) (0.11.2)\n",
            "Requirement already satisfied: Cython>=0.28.0 in /usr/local/lib/python3.7/dist-packages (from causalml) (0.29.30)\n",
            "Requirement already satisfied: xgboost in /usr/local/lib/python3.7/dist-packages (from causalml) (0.90)\n",
            "Requirement already satisfied: pydotplus in /usr/local/lib/python3.7/dist-packages (from causalml) (2.0.2)\n",
            "Requirement already satisfied: tqdm in /usr/local/lib/python3.7/dist-packages (from causalml) (4.64.0)\n",
            "Collecting shap\n",
            "  Downloading shap-0.40.0-cp37-cp37m-manylinux2010_x86_64.whl (564 kB)\n",
            "\u001b[K     |████████████████████████████████| 564 kB 48.6 MB/s \n",
            "\u001b[?25hRequirement already satisfied: dill in /usr/local/lib/python3.7/dist-packages (from causalml) (0.3.5.1)\n",
            "Requirement already satisfied: lightgbm in /usr/local/lib/python3.7/dist-packages (from causalml) (2.2.3)\n",
            "Collecting pygam\n",
            "  Downloading pygam-0.8.0-py2.py3-none-any.whl (1.8 MB)\n",
            "\u001b[K     |████████████████████████████████| 1.8 MB 44.2 MB/s \n",
            "\u001b[?25hRequirement already satisfied: packaging in /usr/local/lib/python3.7/dist-packages (from causalml) (21.3)\n",
            "Requirement already satisfied: torch in /usr/local/lib/python3.7/dist-packages (from causalml) (1.11.0+cu113)\n",
            "Collecting pyro-ppl\n",
            "  Downloading pyro_ppl-1.8.1-py3-none-any.whl (718 kB)\n",
            "\u001b[K     |████████████████████████████████| 718 kB 48.5 MB/s \n",
            "\u001b[?25hRequirement already satisfied: graphviz in /usr/local/lib/python3.7/dist-packages (from causalml) (0.10.1)\n",
            "Requirement already satisfied: python-dateutil>=2.7.3 in /usr/local/lib/python3.7/dist-packages (from pandas>=0.24.1->causalml) (2.8.2)\n",
            "Requirement already satisfied: pytz>=2017.3 in /usr/local/lib/python3.7/dist-packages (from pandas>=0.24.1->causalml) (2022.1)\n",
            "Requirement already satisfied: six>=1.5 in /usr/local/lib/python3.7/dist-packages (from python-dateutil>=2.7.3->pandas>=0.24.1->causalml) (1.15.0)\n",
            "Requirement already satisfied: threadpoolctl>=2.0.0 in /usr/local/lib/python3.7/dist-packages (from scikit-learn>=0.22.0->causalml) (3.1.0)\n",
            "Requirement already satisfied: joblib>=0.11 in /usr/local/lib/python3.7/dist-packages (from scikit-learn>=0.22.0->causalml) (1.1.0)\n",
            "Requirement already satisfied: patsy>=0.4.0 in /usr/local/lib/python3.7/dist-packages (from statsmodels>=0.9.0->causalml) (0.5.2)\n",
            "Requirement already satisfied: pyparsing!=2.0.4,!=2.1.2,!=2.1.6,>=2.0.1 in /usr/local/lib/python3.7/dist-packages (from matplotlib->causalml) (3.0.9)\n",
            "Requirement already satisfied: kiwisolver>=1.0.1 in /usr/local/lib/python3.7/dist-packages (from matplotlib->causalml) (1.4.2)\n",
            "Requirement already satisfied: cycler>=0.10 in /usr/local/lib/python3.7/dist-packages (from matplotlib->causalml) (0.11.0)\n",
            "Requirement already satisfied: typing-extensions in /usr/local/lib/python3.7/dist-packages (from kiwisolver>=1.0.1->matplotlib->causalml) (4.2.0)\n",
            "Requirement already satisfied: future in /usr/local/lib/python3.7/dist-packages (from pygam->causalml) (0.16.0)\n",
            "Requirement already satisfied: progressbar2 in /usr/local/lib/python3.7/dist-packages (from pygam->causalml) (3.38.0)\n",
            "Requirement already satisfied: python-utils>=2.3.0 in /usr/local/lib/python3.7/dist-packages (from progressbar2->pygam->causalml) (3.2.3)\n",
            "Requirement already satisfied: opt-einsum>=2.3.2 in /usr/local/lib/python3.7/dist-packages (from pyro-ppl->causalml) (3.3.0)\n",
            "Collecting pyro-api>=0.1.1\n",
            "  Downloading pyro_api-0.1.2-py3-none-any.whl (11 kB)\n",
            "Collecting slicer==0.0.7\n",
            "  Downloading slicer-0.0.7-py3-none-any.whl (14 kB)\n",
            "Requirement already satisfied: cloudpickle in /usr/local/lib/python3.7/dist-packages (from shap->causalml) (1.3.0)\n",
            "Requirement already satisfied: numba in /usr/local/lib/python3.7/dist-packages (from shap->causalml) (0.51.2)\n",
            "Requirement already satisfied: llvmlite<0.35,>=0.34.0.dev0 in /usr/local/lib/python3.7/dist-packages (from numba->shap->causalml) (0.34.0)\n",
            "Building wheels for collected packages: causalml\n",
            "  Building wheel for causalml (setup.py) ... \u001b[?25l\u001b[?25hdone\n",
            "  Created wheel for causalml: filename=causalml-0.12.3-cp37-cp37m-linux_x86_64.whl size=1054262 sha256=57f40038b34384b51097e085cc60a8315e6b0f1035ffc04d2e565cd518f9eebc\n",
            "  Stored in directory: /root/.cache/pip/wheels/d7/5e/47/4e965cf8e87c6c10cd7361d910acccd08a1de459f25d55fd23\n",
            "Successfully built causalml\n",
            "Installing collected packages: slicer, pyro-api, shap, pyro-ppl, pygam, causalml\n",
            "Successfully installed causalml-0.12.3 pygam-0.8.0 pyro-api-0.1.2 pyro-ppl-1.8.1 shap-0.40.0 slicer-0.0.7\n"
          ]
        }
      ],
      "source": [
        "pip install causalml"
      ]
    },
    {
      "cell_type": "code",
      "source": [
        "import warnings\n",
        "warnings.filterwarnings(\"ignore\")\n",
        "\n",
        "import numpy as np\n",
        "from causalml.dataset import synthetic_data\n",
        "\n",
        "y, X, treatment_flags, ite_list, exp_outcome_list, e = synthetic_data(mode=1, n=10_000, p=5, sigma=1.0)\n",
        "\n",
        "print(f\"Sample outcome: {y[:5]}\")\n",
        "print(f\"Sample independent variables: {X[:5]}\")\n",
        "\n",
        "print(f\"Treatment Data Count = {np.count_nonzero(treatment_flags)}\")\n",
        "print(f\"Control Data Count = {len(y) - np.count_nonzero(treatment_flags)}\")\n",
        "\n",
        "print(f\"Sample ITE: {ite_list[:5]}\")"
      ],
      "metadata": {
        "colab": {
          "base_uri": "https://localhost:8080/"
        },
        "id": "sHLorET9V5ew",
        "outputId": "c69a82b4-62bf-4287-bc6f-c2c64c31914c"
      },
      "execution_count": 2,
      "outputs": [
        {
          "output_type": "stream",
          "name": "stdout",
          "text": [
            "Sample outcome: [4.16603802 2.66343101 1.73090528 1.51348602 2.23708666]\n",
            "Sample independent variables: [[0.80332286 0.68494985 0.46040221 0.5201406  0.63149635]\n",
            " [0.86448588 0.31806375 0.8828936  0.53621287 0.84205469]\n",
            " [0.47853946 0.34292117 0.4600919  0.43675847 0.83207349]\n",
            " [0.05508973 0.56560549 0.21877477 0.19707483 0.41018617]\n",
            " [0.43129212 0.37779253 0.5288168  0.98852722 0.73954197]]\n",
            "Treatment Data Count = 5138\n",
            "Control Data Count = 4862\n",
            "Sample ITE: [0.74413636 0.59127482 0.41073032 0.31034761 0.40454233]\n"
          ]
        }
      ]
    },
    {
      "cell_type": "code",
      "source": [
        "from causalml.inference.meta import LRSRegressor\n",
        "\n",
        "lr = LRSRegressor()\n",
        "print(lr)"
      ],
      "metadata": {
        "colab": {
          "base_uri": "https://localhost:8080/"
        },
        "id": "6B5rQi1XV7WA",
        "outputId": "c1b0dec0-c2ba-4918-ffa6-4b6cc821e107"
      },
      "execution_count": 3,
      "outputs": [
        {
          "output_type": "stream",
          "name": "stdout",
          "text": [
            "LRSRegressor(model=<causalml.inference.meta.slearner.StatsmodelsOLS object at 0x7fcd5f9f9990>)\n"
          ]
        }
      ]
    },
    {
      "cell_type": "code",
      "source": [
        "te, lb, ub = lr.estimate_ate(X, treatment_flags, y)\n",
        "print(f\"Confidence Level Alpha = {lr.ate_alpha}\")\n",
        "print(f\"ATE = {np.round(te[0], 2)}, Range : {np.round(lb[0], 2)}:{np.round(ub[0], 2)}\")"
      ],
      "metadata": {
        "colab": {
          "base_uri": "https://localhost:8080/"
        },
        "id": "MMvWZYLkV9hj",
        "outputId": "b44297d9-4643-4f55-dc14-1840ba7e3901"
      },
      "execution_count": 4,
      "outputs": [
        {
          "output_type": "stream",
          "name": "stdout",
          "text": [
            "Confidence Level Alpha = 0.05\n",
            "ATE = 0.66, Range : 0.61:0.71\n"
          ]
        }
      ]
    }
  ]
}