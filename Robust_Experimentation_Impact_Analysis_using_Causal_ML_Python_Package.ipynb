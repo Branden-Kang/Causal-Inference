{
  "nbformat": 4,
  "nbformat_minor": 0,
  "metadata": {
    "colab": {
      "name": "Robust Experimentation Impact Analysis using Causal ML Python Package.ipynb",
      "provenance": [],
      "authorship_tag": "ABX9TyNK5d6QNjSkMgKLzCH5Zl5Y"
    },
    "kernelspec": {
      "name": "python3",
      "display_name": "Python 3"
    },
    "language_info": {
      "name": "python"
    }
  },
  "cells": [
    {
      "cell_type": "markdown",
      "source": [
        "[Reference](https://medium.com/@monosr/robust-experimentation-impact-analysis-using-causal-ml-python-package-136db5d7f921)"
      ],
      "metadata": {
        "id": "Q4CkGs2yiBkI"
      }
    },
    {
      "cell_type": "code",
      "execution_count": 1,
      "metadata": {
        "colab": {
          "base_uri": "https://localhost:8080/"
        },
        "id": "VF5iU3jGhpiL",
        "outputId": "078b7fd6-815c-4343-a8c0-1d1d55ab72a9"
      },
      "outputs": [
        {
          "output_type": "stream",
          "name": "stdout",
          "text": [
            "Looking in indexes: https://pypi.org/simple, https://us-python.pkg.dev/colab-wheels/public/simple/\n",
            "Collecting causalml\n",
            "  Downloading causalml-0.12.3.tar.gz (406 kB)\n",
            "\u001b[K     |████████████████████████████████| 406 kB 11.2 MB/s \n",
            "\u001b[?25hRequirement already satisfied: setuptools>=41.0.0 in /usr/local/lib/python3.7/dist-packages (from causalml) (57.4.0)\n",
            "Requirement already satisfied: pip>=10.0 in /usr/local/lib/python3.7/dist-packages (from causalml) (21.1.3)\n",
            "Requirement already satisfied: numpy>=1.18.5 in /usr/local/lib/python3.7/dist-packages (from causalml) (1.21.6)\n",
            "Requirement already satisfied: scipy>=1.4.1 in /usr/local/lib/python3.7/dist-packages (from causalml) (1.4.1)\n",
            "Requirement already satisfied: matplotlib in /usr/local/lib/python3.7/dist-packages (from causalml) (3.2.2)\n",
            "Requirement already satisfied: pandas>=0.24.1 in /usr/local/lib/python3.7/dist-packages (from causalml) (1.3.5)\n",
            "Requirement already satisfied: scikit-learn>=0.22.0 in /usr/local/lib/python3.7/dist-packages (from causalml) (1.0.2)\n",
            "Requirement already satisfied: statsmodels>=0.9.0 in /usr/local/lib/python3.7/dist-packages (from causalml) (0.10.2)\n",
            "Requirement already satisfied: seaborn in /usr/local/lib/python3.7/dist-packages (from causalml) (0.11.2)\n",
            "Requirement already satisfied: Cython>=0.28.0 in /usr/local/lib/python3.7/dist-packages (from causalml) (0.29.30)\n",
            "Requirement already satisfied: xgboost in /usr/local/lib/python3.7/dist-packages (from causalml) (0.90)\n",
            "Requirement already satisfied: pydotplus in /usr/local/lib/python3.7/dist-packages (from causalml) (2.0.2)\n",
            "Requirement already satisfied: tqdm in /usr/local/lib/python3.7/dist-packages (from causalml) (4.64.0)\n",
            "Collecting shap\n",
            "  Downloading shap-0.40.0-cp37-cp37m-manylinux2010_x86_64.whl (564 kB)\n",
            "\u001b[K     |████████████████████████████████| 564 kB 27.5 MB/s \n",
            "\u001b[?25hRequirement already satisfied: dill in /usr/local/lib/python3.7/dist-packages (from causalml) (0.3.5.1)\n",
            "Requirement already satisfied: lightgbm in /usr/local/lib/python3.7/dist-packages (from causalml) (2.2.3)\n",
            "Collecting pygam\n",
            "  Downloading pygam-0.8.0-py2.py3-none-any.whl (1.8 MB)\n",
            "\u001b[K     |████████████████████████████████| 1.8 MB 33.9 MB/s \n",
            "\u001b[?25hRequirement already satisfied: packaging in /usr/local/lib/python3.7/dist-packages (from causalml) (21.3)\n",
            "Requirement already satisfied: torch in /usr/local/lib/python3.7/dist-packages (from causalml) (1.11.0+cu113)\n",
            "Collecting pyro-ppl\n",
            "  Downloading pyro_ppl-1.8.1-py3-none-any.whl (718 kB)\n",
            "\u001b[K     |████████████████████████████████| 718 kB 28.1 MB/s \n",
            "\u001b[?25hRequirement already satisfied: graphviz in /usr/local/lib/python3.7/dist-packages (from causalml) (0.10.1)\n",
            "Requirement already satisfied: pytz>=2017.3 in /usr/local/lib/python3.7/dist-packages (from pandas>=0.24.1->causalml) (2022.1)\n",
            "Requirement already satisfied: python-dateutil>=2.7.3 in /usr/local/lib/python3.7/dist-packages (from pandas>=0.24.1->causalml) (2.8.2)\n",
            "Requirement already satisfied: six>=1.5 in /usr/local/lib/python3.7/dist-packages (from python-dateutil>=2.7.3->pandas>=0.24.1->causalml) (1.15.0)\n",
            "Requirement already satisfied: joblib>=0.11 in /usr/local/lib/python3.7/dist-packages (from scikit-learn>=0.22.0->causalml) (1.1.0)\n",
            "Requirement already satisfied: threadpoolctl>=2.0.0 in /usr/local/lib/python3.7/dist-packages (from scikit-learn>=0.22.0->causalml) (3.1.0)\n",
            "Requirement already satisfied: patsy>=0.4.0 in /usr/local/lib/python3.7/dist-packages (from statsmodels>=0.9.0->causalml) (0.5.2)\n",
            "Requirement already satisfied: kiwisolver>=1.0.1 in /usr/local/lib/python3.7/dist-packages (from matplotlib->causalml) (1.4.2)\n",
            "Requirement already satisfied: pyparsing!=2.0.4,!=2.1.2,!=2.1.6,>=2.0.1 in /usr/local/lib/python3.7/dist-packages (from matplotlib->causalml) (3.0.9)\n",
            "Requirement already satisfied: cycler>=0.10 in /usr/local/lib/python3.7/dist-packages (from matplotlib->causalml) (0.11.0)\n",
            "Requirement already satisfied: typing-extensions in /usr/local/lib/python3.7/dist-packages (from kiwisolver>=1.0.1->matplotlib->causalml) (4.2.0)\n",
            "Requirement already satisfied: future in /usr/local/lib/python3.7/dist-packages (from pygam->causalml) (0.16.0)\n",
            "Requirement already satisfied: progressbar2 in /usr/local/lib/python3.7/dist-packages (from pygam->causalml) (3.38.0)\n",
            "Requirement already satisfied: python-utils>=2.3.0 in /usr/local/lib/python3.7/dist-packages (from progressbar2->pygam->causalml) (3.2.3)\n",
            "Requirement already satisfied: opt-einsum>=2.3.2 in /usr/local/lib/python3.7/dist-packages (from pyro-ppl->causalml) (3.3.0)\n",
            "Collecting pyro-api>=0.1.1\n",
            "  Downloading pyro_api-0.1.2-py3-none-any.whl (11 kB)\n",
            "Requirement already satisfied: numba in /usr/local/lib/python3.7/dist-packages (from shap->causalml) (0.51.2)\n",
            "Requirement already satisfied: cloudpickle in /usr/local/lib/python3.7/dist-packages (from shap->causalml) (1.3.0)\n",
            "Collecting slicer==0.0.7\n",
            "  Downloading slicer-0.0.7-py3-none-any.whl (14 kB)\n",
            "Requirement already satisfied: llvmlite<0.35,>=0.34.0.dev0 in /usr/local/lib/python3.7/dist-packages (from numba->shap->causalml) (0.34.0)\n",
            "Building wheels for collected packages: causalml\n",
            "  Building wheel for causalml (setup.py) ... \u001b[?25l\u001b[?25hdone\n",
            "  Created wheel for causalml: filename=causalml-0.12.3-cp37-cp37m-linux_x86_64.whl size=1054275 sha256=68ba1e39301ebdf2b4ed07c67448f15a0d39811f168f70b5eec01eede9519600\n",
            "  Stored in directory: /root/.cache/pip/wheels/d7/5e/47/4e965cf8e87c6c10cd7361d910acccd08a1de459f25d55fd23\n",
            "Successfully built causalml\n",
            "Installing collected packages: slicer, pyro-api, shap, pyro-ppl, pygam, causalml\n",
            "Successfully installed causalml-0.12.3 pygam-0.8.0 pyro-api-0.1.2 pyro-ppl-1.8.1 shap-0.40.0 slicer-0.0.7\n"
          ]
        }
      ],
      "source": [
        "!pip install causalml\n",
        "# conda install -c conda-forge causalml"
      ]
    },
    {
      "cell_type": "markdown",
      "source": [
        "- n : Number of samples\n",
        "- p : Number of covariates (i.e. number of independent variables)\n",
        "- y : outcome array (i.e. synthetic outcome from the experiments), in this case these are continuous variable\n",
        "- X : Independent variables of dimensions n,p\n",
        "- w : Treatment flag, 0 signifies control\n",
        "- tau : ITE\n",
        "- b : Expected outcome\n",
        "- e : Propensity of receiving treatment"
      ],
      "metadata": {
        "id": "zqQlufLTiP5n"
      }
    },
    {
      "cell_type": "code",
      "source": [
        "import warnings\n",
        "warnings.filterwarnings(\"ignore\")\n",
        "\n",
        "import numpy as np\n",
        "from causalml.dataset import synthetic_data\n",
        "\n",
        "y, X, treatment_flags, ite_list, exp_outcome_list, e = synthetic_data(mode=1, n=10_000, p=5, sigma=1.0)\n",
        "\n",
        "print(f\"Sample outcome: {y[:5]}\")\n",
        "print(f\"Sample independent variables: {X[:5]}\")\n",
        "\n",
        "print(f\"Treatment Data Count = {np.count_nonzero(treatment_flags)}\")\n",
        "print(f\"Control Data Count = {len(y) - np.count_nonzero(treatment_flags)}\")\n",
        "\n",
        "print(f\"Sample ITE: {ite_list[:5]}\")"
      ],
      "metadata": {
        "colab": {
          "base_uri": "https://localhost:8080/"
        },
        "id": "R_Zci8OMiN3q",
        "outputId": "a744489a-0836-4c02-9453-fa8a209357df"
      },
      "execution_count": 2,
      "outputs": [
        {
          "output_type": "stream",
          "name": "stdout",
          "text": [
            "Sample outcome: [2.48178454 0.74136288 1.87345124 2.48919831 2.83421542]\n",
            "Sample independent variables: [[0.76337241 0.20833775 0.52620044 0.7577642  0.54801578]\n",
            " [0.12601318 0.79215693 0.43063064 0.26831812 0.53385855]\n",
            " [0.38403465 0.09895808 0.28230967 0.27129277 0.50887985]\n",
            " [0.75858701 0.68508042 0.04587426 0.92242968 0.27756016]\n",
            " [0.83849571 0.92451621 0.52464629 0.33065857 0.85826711]]\n",
            "Treatment Data Count = 5088\n",
            "Control Data Count = 4912\n",
            "Sample ITE: [0.48585508 0.45908505 0.24149637 0.72183372 0.88150596]\n"
          ]
        }
      ]
    },
    {
      "cell_type": "code",
      "source": [
        "from causalml.inference.meta import LRSRegressor\n",
        "\n",
        "lr = LRSRegressor()\n",
        "print(lr)"
      ],
      "metadata": {
        "colab": {
          "base_uri": "https://localhost:8080/"
        },
        "id": "4XlwHjaniWKq",
        "outputId": "92f25223-0ef4-4ad9-83a2-efbea59d0f3a"
      },
      "execution_count": 3,
      "outputs": [
        {
          "output_type": "stream",
          "name": "stdout",
          "text": [
            "LRSRegressor(model=<causalml.inference.meta.slearner.StatsmodelsOLS object at 0x7fb26e36b4d0>)\n"
          ]
        }
      ]
    },
    {
      "cell_type": "code",
      "source": [
        "te, lb, ub = lr.estimate_ate(X, treatment_flags, y)\n",
        "print(f\"Confidence Level Alpha = {lr.ate_alpha}\")\n",
        "print(f\"ATE = {np.round(te[0], 2)}, Range : {np.round(lb[0], 2)}:{np.round(ub[0], 2)}\")"
      ],
      "metadata": {
        "colab": {
          "base_uri": "https://localhost:8080/"
        },
        "id": "7W5VqJ1GidB3",
        "outputId": "21d31f44-c84b-47fd-a2cd-71cad626d480"
      },
      "execution_count": 4,
      "outputs": [
        {
          "output_type": "stream",
          "name": "stdout",
          "text": [
            "Confidence Level Alpha = 0.05\n",
            "ATE = 0.68, Range : 0.63:0.73\n"
          ]
        }
      ]
    }
  ]
}